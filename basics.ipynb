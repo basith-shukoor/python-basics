{
 "cells": [
  {
   "cell_type": "code",
   "execution_count": 6,
   "id": "91409c23",
   "metadata": {},
   "outputs": [],
   "source": [
    "a=5\n",
    "b=10\n",
    "c=a+b\n",
    "d=a-b\n",
    "e=a/b\n"
   ]
  },
  {
   "cell_type": "code",
   "execution_count": 7,
   "id": "27353230",
   "metadata": {},
   "outputs": [
    {
     "data": {
      "text/plain": [
       "15"
      ]
     },
     "execution_count": 7,
     "metadata": {},
     "output_type": "execute_result"
    }
   ],
   "source": [
    "c"
   ]
  },
  {
   "cell_type": "code",
   "execution_count": 8,
   "id": "a56cad1d",
   "metadata": {},
   "outputs": [
    {
     "data": {
      "text/plain": [
       "-5"
      ]
     },
     "execution_count": 8,
     "metadata": {},
     "output_type": "execute_result"
    }
   ],
   "source": [
    "d"
   ]
  },
  {
   "cell_type": "code",
   "execution_count": 9,
   "id": "6e129eab",
   "metadata": {},
   "outputs": [
    {
     "data": {
      "text/plain": [
       "0.5"
      ]
     },
     "execution_count": 9,
     "metadata": {},
     "output_type": "execute_result"
    }
   ],
   "source": [
    "e"
   ]
  },
  {
   "cell_type": "code",
   "execution_count": 10,
   "id": "0d7cb0a2",
   "metadata": {},
   "outputs": [
    {
     "data": {
      "text/plain": [
       "-5"
      ]
     },
     "execution_count": 10,
     "metadata": {},
     "output_type": "execute_result"
    }
   ],
   "source": [
    "a-b\n"
   ]
  },
  {
   "cell_type": "code",
   "execution_count": null,
   "id": "705f9634",
   "metadata": {},
   "outputs": [],
   "source": [
    "i=int(input('enter your first number ='))\n",
    "j=int(input('enter your second number ='))\n",
    "print(type(i))\n",
    "print(type(j))\n",
    "k=i+j\n",
    "k"
   ]
  },
  {
   "cell_type": "code",
   "execution_count": null,
   "id": "bb7ffee5",
   "metadata": {},
   "outputs": [],
   "source": [
    "n=2\n",
    "if (n>0):\n",
    "    print(n)\n",
    "else:\n",
    "    print(\"invalied\")"
   ]
  },
  {
   "cell_type": "code",
   "execution_count": null,
   "id": "ed893511",
   "metadata": {},
   "outputs": [],
   "source": [
    "n=0\n",
    "if (n>0):\n",
    "    print(n)\n",
    "elif (n<0):\n",
    "    print(n-1)\n",
    "else:\n",
    "    print(\"not access\")\n",
    "    \n",
    "    \n",
    "    \n",
    "    \n",
    "    "
   ]
  },
  {
   "cell_type": "code",
   "execution_count": null,
   "id": "6be05f2e",
   "metadata": {},
   "outputs": [],
   "source": []
  },
  {
   "cell_type": "code",
   "execution_count": 1,
   "id": "37afa512",
   "metadata": {},
   "outputs": [
    {
     "name": "stdout",
     "output_type": "stream",
     "text": [
      "not access\n"
     ]
    }
   ],
   "source": [
    "n=0\n",
    "if (n>0):\n",
    "    print(n)\n",
    "elif (n<0):\n",
    "    print(n-1)\n",
    "else:\n",
    "    print(\"not access\")\n",
    "    \n",
    "    "
   ]
  },
  {
   "cell_type": "code",
   "execution_count": null,
   "id": "9d903c15",
   "metadata": {},
   "outputs": [],
   "source": [
    "num=10\n",
    "num=20\n",
    "nu"
   ]
  },
  {
   "cell_type": "code",
   "execution_count": null,
   "id": "77092e95",
   "metadata": {},
   "outputs": [],
   "source": []
  }
 ],
 "metadata": {
  "kernelspec": {
   "display_name": "Python 3 (ipykernel)",
   "language": "python",
   "name": "python3"
  },
  "language_info": {
   "codemirror_mode": {
    "name": "ipython",
    "version": 3
   },
   "file_extension": ".py",
   "mimetype": "text/x-python",
   "name": "python",
   "nbconvert_exporter": "python",
   "pygments_lexer": "ipython3",
   "version": "3.9.12"
  }
 },
 "nbformat": 4,
 "nbformat_minor": 5
}
