{
 "cells": [
  {
   "cell_type": "code",
   "execution_count": 2,
   "id": "f6870af7",
   "metadata": {},
   "outputs": [
    {
     "name": "stdout",
     "output_type": "stream",
     "text": [
      "()\n"
     ]
    }
   ],
   "source": [
    "A=()\n",
    "print(A)"
   ]
  },
  {
   "cell_type": "code",
   "execution_count": 3,
   "id": "d9ad8d17",
   "metadata": {},
   "outputs": [
    {
     "name": "stdout",
     "output_type": "stream",
     "text": [
      "(1, 2, 3)\n"
     ]
    }
   ],
   "source": [
    "a=(1,2,3)\n",
    "print(a)"
   ]
  },
  {
   "cell_type": "code",
   "execution_count": 5,
   "id": "37c0a101",
   "metadata": {},
   "outputs": [
    {
     "name": "stdout",
     "output_type": "stream",
     "text": [
      "('ba', 'si', 'th')\n"
     ]
    }
   ],
   "source": [
    "b=(\"ba\",\"si\",\"th\")\n",
    "print(b)"
   ]
  },
  {
   "cell_type": "code",
   "execution_count": 6,
   "id": "b79ea680",
   "metadata": {},
   "outputs": [
    {
     "name": "stdout",
     "output_type": "stream",
     "text": [
      "(1, 'hello', 'A')\n"
     ]
    }
   ],
   "source": [
    "c=(1,\"hello\",'A')\n",
    "print(c)"
   ]
  },
  {
   "cell_type": "code",
   "execution_count": 8,
   "id": "a5575bcb",
   "metadata": {},
   "outputs": [
    {
     "name": "stdout",
     "output_type": "stream",
     "text": [
      "5\n",
      "(6,)\n"
     ]
    }
   ],
   "source": [
    "A=(5)\n",
    "print(A)\n",
    "B=(6, )\n",
    "print(B)"
   ]
  },
  {
   "cell_type": "code",
   "execution_count": 10,
   "id": "f6be0abc",
   "metadata": {},
   "outputs": [
    {
     "name": "stdout",
     "output_type": "stream",
     "text": [
      "('h', 'e', 'l', 'l', 'o')\n"
     ]
    }
   ],
   "source": [
    "a=tuple(\"hello\")\n",
    "print(a)"
   ]
  },
  {
   "cell_type": "code",
   "execution_count": 14,
   "id": "42088abf",
   "metadata": {},
   "outputs": [
    {
     "ename": "SyntaxError",
     "evalue": "invalid syntax (2864916874.py, line 3)",
     "output_type": "error",
     "traceback": [
      "\u001b[1;36m  Input \u001b[1;32mIn [14]\u001b[1;36m\u001b[0m\n\u001b[1;33m    print(b)i\",\"hello\")\u001b[0m\n\u001b[1;37m            ^\u001b[0m\n\u001b[1;31mSyntaxError\u001b[0m\u001b[1;31m:\u001b[0m invalid syntax\n"
     ]
    }
   ],
   "source": [
    "A=[1,2,3,4]\n",
    "b=tuple(A)\n",
    "print(b)i\",\"hello\")\n",
    "print(a[:2]"
   ]
  },
  {
   "cell_type": "code",
   "execution_count": 16,
   "id": "febec592",
   "metadata": {},
   "outputs": [
    {
     "name": "stdout",
     "output_type": "stream",
     "text": [
      "(1, 2)\n"
     ]
    }
   ],
   "source": [
    "a=(1,2,3,\"hi\",\"hello\")\n",
    "print(a[:2])\n",
    "      \n"
   ]
  },
  {
   "cell_type": "code",
   "execution_count": 17,
   "id": "e2940eb8",
   "metadata": {},
   "outputs": [
    {
     "name": "stdout",
     "output_type": "stream",
     "text": [
      "3\n"
     ]
    }
   ],
   "source": [
    "a=(1,2,3,\"hi\",\"hello\")\n",
    "print(a[2])"
   ]
  },
  {
   "cell_type": "code",
   "execution_count": 18,
   "id": "cc771476",
   "metadata": {},
   "outputs": [
    {
     "name": "stdout",
     "output_type": "stream",
     "text": [
      "(3, 'hi', 'hello')\n"
     ]
    }
   ],
   "source": [
    "a=(1,2,3,\"hi\",\"hello\")\n",
    "print(a[2:])"
   ]
  },
  {
   "cell_type": "code",
   "execution_count": 19,
   "id": "b6f6dcf7",
   "metadata": {},
   "outputs": [
    {
     "name": "stdout",
     "output_type": "stream",
     "text": [
      "(1, 2, 3, 'hi', 'hello')\n"
     ]
    }
   ],
   "source": [
    "a=(1,2,3,\"hi\",\"hello\")\n",
    "print(a[0:])"
   ]
  },
  {
   "cell_type": "code",
   "execution_count": 21,
   "id": "f6304131",
   "metadata": {},
   "outputs": [
    {
     "name": "stdout",
     "output_type": "stream",
     "text": [
      "(1, 2, 3, 'hi')\n"
     ]
    }
   ],
   "source": [
    "a=(1,2,3,\"hi\",\"hello\")\n",
    "print(a[0:4])"
   ]
  },
  {
   "cell_type": "code",
   "execution_count": 28,
   "id": "0a1a5a60",
   "metadata": {},
   "outputs": [
    {
     "name": "stdout",
     "output_type": "stream",
     "text": [
      "(1, 2, 3, 'hi', 'hello', 'basith')\n"
     ]
    }
   ],
   "source": [
    "a=(1,2,3,\"hi\",\"hello\")\n",
    "a= a+(\"basith\",)\n",
    "print(a)"
   ]
  },
  {
   "cell_type": "code",
   "execution_count": 29,
   "id": "1650d187",
   "metadata": {},
   "outputs": [
    {
     "name": "stdout",
     "output_type": "stream",
     "text": [
      "(1, 2, 3, 'hi', 'hello', 2, 'basith')\n"
     ]
    }
   ],
   "source": [
    "a=(1,2,3,\"hi\",\"hello\")\n",
    "a= a+(2,\"basith\",)\n",
    "print(a)"
   ]
  },
  {
   "cell_type": "code",
   "execution_count": 30,
   "id": "38de586b",
   "metadata": {},
   "outputs": [
    {
     "name": "stdout",
     "output_type": "stream",
     "text": [
      "1\n",
      "2\n",
      "3\n",
      "hi\n",
      "hello\n"
     ]
    }
   ],
   "source": [
    "a=(1,2,3,\"hi\",\"hello\")\n",
    "for i in a:\n",
    "    print(i)"
   ]
  },
  {
   "cell_type": "code",
   "execution_count": 31,
   "id": "7486c485",
   "metadata": {},
   "outputs": [
    {
     "name": "stdout",
     "output_type": "stream",
     "text": [
      "(5, 6, 7, 8)\n"
     ]
    }
   ],
   "source": [
    "a=(1,2,3,4,5,6,7,8,9,10,11,12)\n",
    "print(a[4:-4])\n",
    "\n"
   ]
  },
  {
   "cell_type": "code",
   "execution_count": 32,
   "id": "223cdf5c",
   "metadata": {},
   "outputs": [
    {
     "name": "stdout",
     "output_type": "stream",
     "text": [
      "(2, 3, 4, 5, 6)\n"
     ]
    }
   ],
   "source": [
    "a=(1,2,3,4,5,6,7,8,9,10,11,12)\n",
    "print(a[1:6])\n"
   ]
  },
  {
   "cell_type": "code",
   "execution_count": 33,
   "id": "7786a1db",
   "metadata": {},
   "outputs": [
    {
     "name": "stdout",
     "output_type": "stream",
     "text": [
      "(5, 6, 7, 8, 9, 10)\n"
     ]
    }
   ],
   "source": [
    "a=(1,2,3,4,5,6,7,8,9,10,11,12)\n",
    "print(a[4:-2])\n"
   ]
  },
  {
   "cell_type": "code",
   "execution_count": 34,
   "id": "a5b4bd1a",
   "metadata": {},
   "outputs": [
    {
     "name": "stdout",
     "output_type": "stream",
     "text": [
      "(1, 2, 3, 4)\n"
     ]
    }
   ],
   "source": [
    "a=(1,2,3,4,5,6,7,8,9,10,11,12)\n",
    "print(a[0:4])\n"
   ]
  },
  {
   "cell_type": "code",
   "execution_count": 37,
   "id": "7fb57ae3",
   "metadata": {},
   "outputs": [
    {
     "name": "stdout",
     "output_type": "stream",
     "text": [
      "(12, 9, 6, 3)\n"
     ]
    }
   ],
   "source": [
    "a=(1,2,3,4,5,6,7,8,9,10,11,12)\n",
    "print(a[::-3])\n"
   ]
  },
  {
   "cell_type": "code",
   "execution_count": 40,
   "id": "3f3ca5d3",
   "metadata": {},
   "outputs": [
    {
     "name": "stdout",
     "output_type": "stream",
     "text": [
      "(3, 5, 7, 9)\n"
     ]
    }
   ],
   "source": [
    "a=(1,2,3,4,5,6,7,8,9,10,11,12)\n",
    "print(a[2:10:2])\n"
   ]
  },
  {
   "cell_type": "code",
   "execution_count": 43,
   "id": "d14d6937",
   "metadata": {},
   "outputs": [
    {
     "name": "stdout",
     "output_type": "stream",
     "text": [
      "12\n"
     ]
    }
   ],
   "source": [
    "a=(1,2,3,4,5,6,7,8,9,10,11,12)\n",
    "print(len(a))\n"
   ]
  },
  {
   "cell_type": "code",
   "execution_count": 44,
   "id": "96f85741",
   "metadata": {},
   "outputs": [
    {
     "name": "stdout",
     "output_type": "stream",
     "text": [
      "12\n"
     ]
    }
   ],
   "source": [
    "a=(1,2,3,4,5,6,7,8,9,10,11,12)\n",
    "print(max(a))"
   ]
  },
  {
   "cell_type": "code",
   "execution_count": 45,
   "id": "7d16ed06",
   "metadata": {},
   "outputs": [
    {
     "name": "stdout",
     "output_type": "stream",
     "text": [
      "1\n"
     ]
    }
   ],
   "source": [
    "a=(1,2,3,3,3,3,4,5,6,7,8,9,10,11,12)\n",
    "print(min(a))"
   ]
  },
  {
   "cell_type": "code",
   "execution_count": 50,
   "id": "b6a5984a",
   "metadata": {},
   "outputs": [
    {
     "name": "stdout",
     "output_type": "stream",
     "text": [
      "2\n",
      "1\n",
      "4\n"
     ]
    }
   ],
   "source": [
    "a=(1,2,2,3,3,3,3,4,5,6,7,8,9,10,11,12)\n",
    "print(a.count(2))\n",
    "print(a.count(1))\n",
    "print(a.count(3))"
   ]
  },
  {
   "cell_type": "code",
   "execution_count": 51,
   "id": "5224ea04",
   "metadata": {},
   "outputs": [
    {
     "name": "stdout",
     "output_type": "stream",
     "text": [
      "(10, 40, 30)\n"
     ]
    }
   ],
   "source": [
    "a=(10,20,30)\n",
    "b,c,d=a\n",
    "c=40\n",
    "a=(b,c,d)\n",
    "print(a)"
   ]
  },
  {
   "cell_type": "code",
   "execution_count": 52,
   "id": "0529fc50",
   "metadata": {},
   "outputs": [
    {
     "name": "stdout",
     "output_type": "stream",
     "text": [
      "('apple', 'orangr', 'bnana')\n"
     ]
    }
   ],
   "source": [
    "a=(\"apple\",\"orangr\",\"grapes\")\n",
    "b=list(a)\n",
    "b[2]=\"bnana\"\n",
    "a=tuple(b)\n",
    "print(a)"
   ]
  },
  {
   "cell_type": "code",
   "execution_count": null,
   "id": "89393915",
   "metadata": {},
   "outputs": [],
   "source": []
  }
 ],
 "metadata": {
  "kernelspec": {
   "display_name": "Python 3 (ipykernel)",
   "language": "python",
   "name": "python3"
  },
  "language_info": {
   "codemirror_mode": {
    "name": "ipython",
    "version": 3
   },
   "file_extension": ".py",
   "mimetype": "text/x-python",
   "name": "python",
   "nbconvert_exporter": "python",
   "pygments_lexer": "ipython3",
   "version": "3.9.12"
  }
 },
 "nbformat": 4,
 "nbformat_minor": 5
}
